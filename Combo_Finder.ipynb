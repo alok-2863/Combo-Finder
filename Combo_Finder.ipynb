{
  "nbformat": 4,
  "nbformat_minor": 0,
  "metadata": {
    "colab": {
      "provenance": [],
      "authorship_tag": "ABX9TyOTIPXIMjjfIp6ykUW9YgHK",
      "include_colab_link": true
    },
    "kernelspec": {
      "name": "python3",
      "display_name": "Python 3"
    },
    "language_info": {
      "name": "python"
    }
  },
  "cells": [
    {
      "cell_type": "markdown",
      "metadata": {
        "id": "view-in-github",
        "colab_type": "text"
      },
      "source": [
        "<a href=\"https://colab.research.google.com/github/alok-2863/Combo-Finder/blob/main/Combo_Finder.ipynb\" target=\"_parent\"><img src=\"https://colab.research.google.com/assets/colab-badge.svg\" alt=\"Open In Colab\"/></a>"
      ]
    },
    {
      "cell_type": "markdown",
      "source": [
        "![image.png](data:image/png;base64,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)"
      ],
      "metadata": {
        "id": "BdxUOJZSxXs5"
      }
    },
    {
      "cell_type": "markdown",
      "source": [
        "# **Problem Statement:**\n",
        "Write a program that reads a CSV file containing product information, where the first column represents the Product ID and the second column represents the Price. The program should prompt the user to enter a target price value. The objective is to find all combinations of products whose sum of prices is equal to the target price (within a tolerance of +/- 10)."
      ],
      "metadata": {
        "id": "N-i8dRLyxf-r"
      }
    },
    {
      "cell_type": "markdown",
      "source": [
        "# **Library Inclusion**"
      ],
      "metadata": {
        "id": "o_k9d2xeEEoG"
      }
    },
    {
      "cell_type": "code",
      "execution_count": 10,
      "metadata": {
        "id": "o2zUN3DfAbhA"
      },
      "outputs": [],
      "source": [
        "import random as random\n",
        "import pandas as pd"
      ]
    },
    {
      "cell_type": "markdown",
      "source": [
        "# **Read the productId-price file and convert to dictionary.**"
      ],
      "metadata": {
        "id": "G5RlvjzOEDYi"
      }
    },
    {
      "cell_type": "code",
      "source": [
        "# Read the CSV or Excel file\n",
        "try:\n",
        "  df = pd.read_csv('data.csv')  # Replace 'data.csv' with the actual file path\n",
        "\n",
        "  # Create a dictionary\n",
        "  ProductList = dict(zip(df.iloc[:, 0], df.iloc[:, 1]))\n",
        "except:\n",
        "  print(\"File does not exist.\")  \n"
      ],
      "metadata": {
        "id": "Rb9GW5QlE6tS"
      },
      "execution_count": 22,
      "outputs": []
    },
    {
      "cell_type": "markdown",
      "source": [
        "# **Parameter Setting**"
      ],
      "metadata": {
        "id": "KkmhdyXzFY7G"
      }
    },
    {
      "cell_type": "code",
      "source": [
        "Bound=int(input('Enter price : '))\n",
        "LB          = Bound-10\n",
        "UB          = Bound+10\n",
        "ResultList  = set()   # Store Result List i.e. list of sets whose sum is between bound +-10.\n",
        "\n",
        "Iterations  = 10000"
      ],
      "metadata": {
        "colab": {
          "base_uri": "https://localhost:8080/"
        },
        "id": "MZL0P5B7BToX",
        "outputId": "ebd7583a-8128-43ed-fc75-269a8f09e8c1"
      },
      "execution_count": 15,
      "outputs": [
        {
          "name": "stdout",
          "output_type": "stream",
          "text": [
            "Enter price : 500\n"
          ]
        }
      ]
    },
    {
      "cell_type": "markdown",
      "source": [
        "# **Program Start**"
      ],
      "metadata": {
        "id": "fRCFkhAEIyT5"
      }
    },
    {
      "cell_type": "code",
      "source": [
        "# Loop till number of Iterations\n",
        "ResultList  = set()\n",
        "ResultSum = []\n",
        "\n",
        "for i in range(Iterations):\n",
        "\n",
        "    # Select combo size (i.e. number of products in a combo)\n",
        "    SetSize = random.randint(2, (Bound//min(ProductList.values()))+1)\n",
        "\n",
        "    # Select number of elements from Set\n",
        "    ComboList = random.sample(list(ProductList.keys()),SetSize)\n",
        "\n",
        "    # Sum the products in ColboList\n",
        "    ComboSum = sum([ ProductList[i] for i in ComboList])\n",
        "    \n",
        "    # Check the Sum Between LB and UB\n",
        "    if ComboSum>= LB and ComboSum<= UB:\n",
        "      ResultList.add(tuple(ComboList))\n",
        "      ResultSum.append(ComboSum)\n",
        "      \n",
        "print(\"Done\")"
      ],
      "metadata": {
        "colab": {
          "base_uri": "https://localhost:8080/"
        },
        "id": "oFmCserADZf8",
        "outputId": "2ead08fd-348b-4b4c-ac5f-3773d0edd32a"
      },
      "execution_count": 16,
      "outputs": [
        {
          "output_type": "stream",
          "name": "stdout",
          "text": [
            "Done\n"
          ]
        }
      ]
    },
    {
      "cell_type": "markdown",
      "source": [
        "# **Printing Combo List, Price, Total Count**"
      ],
      "metadata": {
        "id": "vCB1zPoFI1o6"
      }
    },
    {
      "cell_type": "code",
      "source": [
        "i=0\n",
        "# Print total sets\n",
        "print (\"\\nTotal Sets: \", len(ResultList), \"\\n\")\n",
        "\n",
        "# Print all the sets whose sum is between LB and UB\n",
        "for r in ResultList:\n",
        "  print (r,ResultSum[i])\n",
        "  i+=1\n",
        "\n"
      ],
      "metadata": {
        "colab": {
          "base_uri": "https://localhost:8080/"
        },
        "id": "cWmg1PB8Dsub",
        "outputId": "1903959b-c0a1-4c0d-a569-c9eb811dc2a7"
      },
      "execution_count": 20,
      "outputs": [
        {
          "output_type": "stream",
          "name": "stdout",
          "text": [
            "\n",
            "Total Sets:  84 \n",
            "\n",
            "('p385', 'p2994', 'p3976', 'p2813') 498\n",
            "('p434', 'p2725', 'p3662') 491\n",
            "('p2795', 'p1182', 'p4681', 'p3810', 'p2052', 'p78', 'p1283') 496\n",
            "('p1305', 'p3931', 'p2066', 'p3042', 'p2793') 503\n",
            "('p1296', 'p3734', 'p718', 'p641') 499\n",
            "('p4307', 'p2615', 'p3748', 'p3875', 'p2189') 500\n",
            "('p4804', 'p3424', 'p3079', 'p973', 'p4054') 501\n",
            "('p4099', 'p4722', 'p853', 'p3207', 'p2800', 'p1448') 508\n",
            "('p2579', 'p1883', 'p2578', 'p4527', 'p21', 'p1355') 501\n",
            "('p1696', 'p759', 'p592', 'p2641') 508\n",
            "('p3471', 'p3721', 'p3792', 'p4456') 494\n",
            "('p4353', 'p3791', 'p2083', 'p4797', 'p1475') 509\n",
            "('p613', 'p4552', 'p1825', 'p766', 'p2978') 491\n",
            "('p409', 'p4645', 'p1081', 'p1821') 505\n",
            "('p2805', 'p2857', 'p1672', 'p3836') 497\n",
            "('p2675', 'p3756', 'p654', 'p2783', 'p2639', 'p1417') 490\n",
            "('p2656', 'p327', 'p3237') 494\n",
            "('p4132', 'p4181', 'p2199', 'p4659', 'p2577') 494\n",
            "('p987', 'p4367', 'p134', 'p4972', 'p2109') 491\n",
            "('p1324', 'p4340', 'p3217', 'p4874', 'p3617') 493\n",
            "('p816', 'p1235', 'p2126', 'p1354', 'p2911') 501\n",
            "('p2678', 'p805', 'p2362', 'p917') 496\n",
            "('p2958', 'p4773', 'p899', 'p1297') 504\n",
            "('p1909', 'p2299', 'p274', 'p2289', 'p2822', 'p150') 500\n",
            "('p4375', 'p4534', 'p4829', 'p4065', 'p4227', 'p305') 509\n",
            "('p1909', 'p3224', 'p3482', 'p4362', 'p2611') 508\n",
            "('p1188', 'p2754', 'p2123', 'p4480', 'p443') 507\n",
            "('p249', 'p3892', 'p1581', 'p771') 499\n",
            "('p1381', 'p1176', 'p530') 510\n",
            "('p3058', 'p1709', 'p3887', 'p1495') 508\n",
            "('p2768', 'p507', 'p2489', 'p3161', 'p5000') 505\n",
            "('p4655', 'p4423', 'p3170', 'p1898', 'p3681') 503\n",
            "('p1081', 'p4029', 'p4611', 'p3684') 495\n",
            "('p4609', 'p4457', 'p2683', 'p3371') 510\n",
            "('p1475', 'p816', 'p208', 'p3653', 'p2526') 508\n",
            "('p476', 'p489', 'p3825', 'p680', 'p458') 503\n",
            "('p1829', 'p2776', 'p2683', 'p762', 'p3794') 506\n",
            "('p4065', 'p2153', 'p615', 'p1834', 'p3353') 501\n",
            "('p677', 'p1468', 'p4371', 'p2263') 508\n",
            "('p432', 'p3777', 'p2937', 'p3279', 'p2272') 503\n",
            "('p2949', 'p1917', 'p2307', 'p927') 501\n",
            "('p407', 'p1435', 'p360', 'p116') 507\n",
            "('p3222', 'p973', 'p4692', 'p1734', 'p3150', 'p1844') 504\n",
            "('p754', 'p3374', 'p1950', 'p454', 'p3812') 500\n",
            "('p3962', 'p206', 'p3931', 'p3822') 491\n",
            "('p2228', 'p1849', 'p1185', 'p1743', 'p4647', 'p3874') 500\n",
            "('p2231', 'p2016', 'p2651', 'p4776') 507\n",
            "('p3665', 'p1903', 'p4119', 'p74') 490\n",
            "('p4774', 'p4396', 'p4281', 'p4160', 'p4940') 498\n",
            "('p4748', 'p3787', 'p3028', 'p498') 505\n",
            "('p3035', 'p4744', 'p4322') 499\n",
            "('p4325', 'p4702', 'p2668', 'p2353', 'p1179') 499\n",
            "('p2501', 'p2146', 'p3511', 'p4591') 499\n",
            "('p3451', 'p499', 'p2362', 'p3123') 505\n",
            "('p2093', 'p3252', 'p1071', 'p4389') 510\n",
            "('p1339', 'p4784', 'p1214', 'p1408', 'p4240') 500\n",
            "('p561', 'p3248', 'p4792', 'p1344', 'p569', 'p2143') 493\n",
            "('p4352', 'p3198', 'p685', 'p444') 499\n",
            "('p4146', 'p2391', 'p2224', 'p489') 495\n",
            "('p667', 'p4511', 'p2963', 'p1251', 'p4005') 494\n",
            "('p1925', 'p4704', 'p3384', 'p2125', 'p3382') 499\n",
            "('p4445', 'p571', 'p1721') 490\n",
            "('p1158', 'p3001', 'p2151', 'p1591', 'p2016') 497\n",
            "('p790', 'p4166', 'p211', 'p4522', 'p3091') 492\n",
            "('p1719', 'p2470', 'p488', 'p3684', 'p2326') 495\n",
            "('p4158', 'p1921', 'p2665', 'p2301') 510\n",
            "('p1121', 'p1303', 'p876', 'p4524', 'p3420', 'p484') 500\n",
            "('p2750', 'p1034', 'p4684', 'p1243', 'p2236', 'p1913', 'p3981') 503\n",
            "('p1063', 'p2750', 'p4489', 'p537', 'p3004') 502\n",
            "('p480', 'p3139', 'p4728', 'p493') 504\n",
            "('p2169', 'p1857', 'p4900', 'p2595', 'p3497', 'p1858', 'p3204') 497\n",
            "('p1715', 'p2582', 'p2037', 'p3609') 504\n",
            "('p3891', 'p3802', 'p1025', 'p4306', 'p1386') 506\n",
            "('p2280', 'p2940', 'p4078', 'p1715') 498\n",
            "('p3895', 'p4222', 'p526', 'p702', 'p7', 'p1120', 'p1349') 508\n",
            "('p168', 'p2536', 'p2666', 'p4731', 'p3571', 'p1752', 'p274') 499\n",
            "('p275', 'p4017', 'p3973', 'p1325', 'p4367') 494\n",
            "('p1167', 'p3499', 'p4457', 'p1884', 'p3053') 510\n",
            "('p500', 'p481', 'p3170', 'p3773', 'p1245') 508\n",
            "('p750', 'p3264', 'p4901', 'p4791', 'p664', 'p2007') 495\n",
            "('p1787', 'p2348', 'p3132', 'p450') 500\n",
            "('p4063', 'p916', 'p1330', 'p715', 'p2386') 507\n",
            "('p2829', 'p1753', 'p3192', 'p1049') 507\n",
            "('p56', 'p3794', 'p1061', 'p4943', 'p4465') 495\n"
          ]
        }
      ]
    },
    {
      "cell_type": "markdown",
      "source": [
        "# **Complete Program**"
      ],
      "metadata": {
        "id": "-67yD_AFJIOg"
      }
    },
    {
      "cell_type": "code",
      "source": [
        "\n",
        "#-------------------------------------------------------------\n",
        "# Step 1: Library inclusion                             \n",
        "#-------------------------------------------------------------\n",
        "import random as random\n",
        "import pandas as pd\n",
        "\n",
        "\n",
        "#-------------------------------------------------------------\n",
        "# Step 2: Read the productId-price file and convert to dictionary.                            \n",
        "#-------------------------------------------------------------\n",
        "\n",
        "# Read the CSV or Excel file\n",
        "try:\n",
        "  df = pd.read_csv('data.csv')  # Replace 'data.csv' with the actual file path\n",
        "\n",
        "  # Create a dictionary\n",
        "  ProductList = dict(zip(df.iloc[:, 0], df.iloc[:, 1]))\n",
        "except:\n",
        "  print(\"File does not exist.\")  \n",
        "\n",
        "#-------------------------------------------------------------\n",
        "# Step 3: Parameter Setting\n",
        "#-------------------------------------------------------------\n",
        "Bound=int(input('Enter price : '))\n",
        "LB          = Bound-10\n",
        "UB          = Bound+10\n",
        "ResultList  = set()   # Store Result List i.e. list of sets whose sum is between bound +-10.\n",
        "\n",
        "Iterations  = 10000 \n",
        "\n",
        "\n",
        "#-------------------------------------------------------------\n",
        "# Step 4: Start Program\n",
        "#-------------------------------------------------------------\n",
        "\n",
        "# Loop till number of Iterations\n",
        "ResultList  = set()\n",
        "ResultSum = []\n",
        "\n",
        "for i in range(Iterations):\n",
        "\n",
        "    # Select combo size (i.e. number of products in a combo)\n",
        "    SetSize = random.randint(2, (Bound//min(ProductList.values()))+1)\n",
        "\n",
        "    # Select number of elements from Set\n",
        "    ComboList = random.sample(list(ProductList.keys()),SetSize)\n",
        "\n",
        "    # Sum the products in ColboList\n",
        "    ComboSum = sum([ ProductList[i] for i in ComboList])\n",
        "    \n",
        "    # Check the Sum Between LB and UB\n",
        "    if ComboSum>= LB and ComboSum<= UB:\n",
        "      ResultList.add(tuple(ComboList))\n",
        "      ResultSum.append(ComboSum)\n",
        "      \n",
        "#-------------------------------------------------------------\n",
        "# Step 5: Printing Combo List, Price, Total Count\n",
        "#-------------------------------------------------------------\n",
        "# Print total sets\n",
        "print (\"\\nTotal Sets: \", len(ResultList), \"\\n\")\n",
        "i=0\n",
        "# Print all the sets whose sum is between LB and UB\n",
        "for r in ResultList:\n",
        "  print (r,ResultSum[i])\n",
        "  i+=1\n",
        "\n",
        "\n",
        " \n",
        "\n"
      ],
      "metadata": {
        "colab": {
          "base_uri": "https://localhost:8080/"
        },
        "id": "aQhMHWVKD8zv",
        "outputId": "c78bd33f-bf94-415c-dd7d-b5a092941ee3"
      },
      "execution_count": 21,
      "outputs": [
        {
          "output_type": "stream",
          "name": "stdout",
          "text": [
            "Enter price : 1000\n",
            "\n",
            "Total Sets:  53 \n",
            "\n",
            "('p3969', 'p4922', 'p2154', 'p859', 'p2661', 'p3210', 'p2638', 'p1493', 'p4707') 997\n",
            "('p2487', 'p2957', 'p1714', 'p48', 'p2191', 'p2829', 'p253', 'p679', 'p3081', 'p478', 'p1934') 1010\n",
            "('p1855', 'p1754', 'p4441', 'p3350', 'p3411', 'p2780', 'p4110', 'p2690', 'p2072', 'p710', 'p2127', 'p2901') 994\n",
            "('p390', 'p1710', 'p3699', 'p279', 'p4179', 'p1676', 'p2781', 'p977', 'p3501', 'p232', 'p1777') 993\n",
            "('p647', 'p1348', 'p4889', 'p4015', 'p4751', 'p3883', 'p909') 993\n",
            "('p69', 'p3135', 'p2125', 'p1402', 'p236', 'p439', 'p576', 'p1580', 'p192') 997\n",
            "('p476', 'p4936', 'p4571', 'p728', 'p3736', 'p3871', 'p1522') 1007\n",
            "('p2805', 'p3377', 'p767', 'p4739', 'p1780', 'p3056', 'p4161', 'p7', 'p4489') 1007\n",
            "('p369', 'p4296', 'p2383', 'p1556', 'p4875', 'p4847', 'p3141', 'p3838') 1010\n",
            "('p373', 'p983', 'p2570', 'p4459', 'p2298', 'p4465', 'p2347', 'p4260', 'p1939', 'p2748') 993\n",
            "('p4075', 'p832', 'p1629', 'p3574', 'p3558', 'p535', 'p1712', 'p3740', 'p4619') 994\n",
            "('p289', 'p878', 'p2470', 'p4842', 'p3020', 'p4894', 'p4845', 'p4068', 'p4387', 'p3486', 'p349') 1000\n",
            "('p4484', 'p3290', 'p3287', 'p155', 'p3133', 'p2323', 'p4647', 'p1024', 'p826', 'p1815', 'p3660', 'p771') 1005\n",
            "('p1952', 'p1117', 'p2801', 'p2971', 'p887', 'p817', 'p3631', 'p4380', 'p1638', 'p3578') 990\n",
            "('p262', 'p3591', 'p1573', 'p2295', 'p1557', 'p765', 'p4977', 'p3051', 'p2844') 992\n",
            "('p728', 'p726', 'p3701', 'p3518', 'p949', 'p1801', 'p842', 'p4514', 'p2030', 'p2230', 'p2670', 'p1752') 1009\n",
            "('p724', 'p192', 'p1532', 'p2238', 'p4609', 'p4365', 'p3478') 992\n",
            "('p1567', 'p183', 'p4239', 'p4157', 'p1276', 'p4288', 'p635', 'p1720', 'p4230', 'p4365') 1006\n",
            "('p2963', 'p1076', 'p190', 'p2380', 'p3204', 'p682', 'p1535', 'p42', 'p1568', 'p3326', 'p2067') 994\n",
            "('p3673', 'p179', 'p3948', 'p414', 'p2967', 'p2275', 'p2208', 'p1324') 1000\n",
            "('p357', 'p1904', 'p4612', 'p245', 'p50', 'p4960', 'p1700', 'p1148') 1000\n",
            "('p4923', 'p3128', 'p4866', 'p4280', 'p216', 'p4427', 'p5', 'p355', 'p3703') 1003\n",
            "('p434', 'p4380', 'p2341', 'p3012', 'p3673', 'p1837', 'p2936', 'p1531', 'p825') 1001\n",
            "('p670', 'p1395', 'p3149', 'p92', 'p2746', 'p1269', 'p1924', 'p3805', 'p2049', 'p3572') 1001\n",
            "('p410', 'p1567', 'p67', 'p653', 'p1076', 'p956', 'p2763', 'p2985') 1007\n",
            "('p2640', 'p4206', 'p868', 'p4975', 'p1269', 'p3049', 'p556', 'p3323') 1004\n",
            "('p2722', 'p400', 'p1075', 'p4184', 'p3945', 'p1865', 'p1105', 'p674', 'p378', 'p169') 1004\n",
            "('p656', 'p2154', 'p2325', 'p246', 'p2585', 'p4434', 'p3546', 'p1731') 998\n",
            "('p3357', 'p418', 'p4854', 'p1313', 'p4546', 'p4258', 'p1512', 'p2840', 'p2124') 1005\n",
            "('p3787', 'p2066', 'p2335', 'p4441', 'p3003', 'p3404', 'p3381') 1000\n",
            "('p4564', 'p4554', 'p3588', 'p3943', 'p872', 'p3231', 'p3817', 'p32', 'p4682', 'p1737') 997\n",
            "('p4940', 'p379', 'p810', 'p894', 'p4691', 'p952', 'p4555', 'p4406') 1005\n",
            "('p65', 'p4104', 'p274', 'p3273', 'p3120', 'p4617', 'p2932', 'p3037', 'p3917') 1009\n",
            "('p2548', 'p1626', 'p573', 'p2645', 'p459', 'p2239', 'p872', 'p854', 'p378') 991\n",
            "('p679', 'p4947', 'p1091', 'p4515', 'p2986', 'p3305', 'p4701', 'p2797', 'p3705', 'p3307', 'p1612') 1010\n",
            "('p1407', 'p3219', 'p850', 'p712', 'p2116', 'p4771', 'p4839', 'p736') 1007\n",
            "('p3029', 'p2823', 'p4785', 'p3152', 'p4876', 'p3317', 'p2') 1006\n",
            "('p4936', 'p124', 'p844', 'p2550', 'p4232', 'p2160', 'p2857', 'p4357', 'p4921', 'p925') 999\n",
            "('p3716', 'p875', 'p894', 'p4026', 'p2495', 'p1478', 'p3430', 'p4919') 990\n",
            "('p4479', 'p3827', 'p1433', 'p3786', 'p617', 'p1742', 'p1652', 'p4944', 'p1216') 1006\n",
            "('p3626', 'p611', 'p4375', 'p2828', 'p3527', 'p3458', 'p565', 'p1025', 'p403', 'p3871') 1001\n",
            "('p494', 'p469', 'p2129', 'p1430', 'p109', 'p3693', 'p4461', 'p2607') 1001\n",
            "('p1137', 'p1844', 'p4537', 'p2342', 'p49', 'p3305', 'p1964', 'p3689', 'p4279', 'p3436') 1006\n",
            "('p3277', 'p1608', 'p557', 'p1572', 'p4678', 'p3512', 'p1748', 'p1528', 'p1336', 'p738') 998\n",
            "('p135', 'p2418', 'p1726', 'p454', 'p4052', 'p1895', 'p4601', 'p3019') 1001\n",
            "('p510', 'p2516', 'p2646', 'p3153', 'p2969', 'p4084', 'p4602', 'p4248', 'p1250', 'p4792') 1001\n",
            "('p4031', 'p1654', 'p4392', 'p2952', 'p2764', 'p3406', 'p1426', 'p4279', 'p2731') 999\n",
            "('p1562', 'p3004', 'p1743', 'p1218', 'p4662', 'p338', 'p3789', 'p4558') 1008\n",
            "('p1145', 'p4445', 'p2205', 'p3831', 'p2749', 'p1442', 'p2581') 1009\n",
            "('p3498', 'p762', 'p1918', 'p2942', 'p3651', 'p834', 'p4923', 'p2803', 'p768', 'p4185') 1003\n",
            "('p3026', 'p1541', 'p1957', 'p4713', 'p3509', 'p3894', 'p820', 'p2862', 'p1705') 992\n",
            "('p4723', 'p1114', 'p1702', 'p169', 'p774', 'p3898', 'p4450', 'p4419') 995\n",
            "('p4629', 'p681', 'p3816', 'p4104', 'p3960', 'p1475', 'p4486', 'p3574', 'p4593', 'p4024') 1004\n"
          ]
        }
      ]
    },
    {
      "cell_type": "markdown",
      "source": [
        "# **Generating Dataset**"
      ],
      "metadata": {
        "id": "sRft2NhuOK7Q"
      }
    },
    {
      "cell_type": "code",
      "source": [
        "import csv\n",
        "import random\n",
        "\n",
        "# Generate a list of product IDs\n",
        "product_ids = ['p{}'.format(i) for i in range(1, 5001)]\n",
        "\n",
        "# Create a list to hold the data\n",
        "data = [['Product ID', 'Price']]\n",
        "\n",
        "# Generate random prices for each product ID\n",
        "for product_id in product_ids:\n",
        "    price = random.randint(25, 200)\n",
        "    data.append([product_id, price])\n",
        "\n",
        "# Write the data to a CSV file\n",
        "with open('data.csv', 'w', newline='') as file:\n",
        "    writer = csv.writer(file)\n",
        "    writer.writerows(data)\n",
        "\n",
        "print(\"CSV file 'data.csv' created successfully.\")\n"
      ],
      "metadata": {
        "colab": {
          "base_uri": "https://localhost:8080/"
        },
        "id": "K8gzzh6rLLvI",
        "outputId": "8a7f63ce-31d6-4acb-c441-02d1bc8533eb"
      },
      "execution_count": 2,
      "outputs": [
        {
          "output_type": "stream",
          "name": "stdout",
          "text": [
            "CSV file 'data.csv' created successfully.\n"
          ]
        }
      ]
    }
  ]
}